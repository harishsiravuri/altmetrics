{
 "cells": [
  {
   "cell_type": "markdown",
   "metadata": {},
   "source": [
    "# Use Linear Regression to train the dataset"
   ]
  },
  {
   "cell_type": "code",
   "execution_count": 1,
   "metadata": {
    "collapsed": false
   },
   "outputs": [
    {
     "name": "stdout",
     "output_type": "stream",
     "text": [
      "   altmetric_id  mendeley_readers  citeulikereaders  blog_users  \\\n",
      "0        100001                74                 0           1   \n",
      "1        100016               255                 4          10   \n",
      "2        100029               338                 5           7   \n",
      "\n",
      "   blogs_posts_count  news_unique_users  total_posts_count  wiki_posts_count  \\\n",
      "0                  1                  1                  2                 0   \n",
      "1                 10                  0                430                 1   \n",
      "2                  7                  5                 35                 1   \n",
      "\n",
      "   facebook_users  facebook_posts         ...          users_earth  \\\n",
      "0               0               0         ...                   16   \n",
      "1             203             215         ...                  114   \n",
      "2               0               0         ...                   23   \n",
      "\n",
      "   users_agri  users_arts  users_id  users_au  altmetric_score  \\\n",
      "0          20           3         1         1           12.208   \n",
      "1           1          16         5         3          281.376   \n",
      "2           5           9         2         6          109.222   \n",
      "\n",
      "   altmetric_score_1y  altmetric_score_6m  altmetric_score_3m  \\\n",
      "0                7.00                7.00                0.00   \n",
      "1               14.50               10.75                9.75   \n",
      "2                2.35                2.35                0.00   \n",
      "\n",
      "   altmetric_score_1m  \n",
      "0                 0.0  \n",
      "1                 8.5  \n",
      "2                 0.0  \n",
      "\n",
      "[3 rows x 39 columns]\n"
     ]
    }
   ],
   "source": [
    "from sklearn import datasets\n",
    "import numpy as np\n",
    "import pandas as pd\n",
    "from sklearn.linear_model import LinearRegression\n",
    "from sklearn import svm, preprocessing\n",
    "\n",
    "raw_data=pd.read_csv(\"sampled3.csv\")\n",
    "print (raw_data.head(3))\n",
    "\n",
    "\n",
    "npMatrix = np.matrix(raw_data)\n",
    "X, y = npMatrix[1:,1:34], npMatrix[1:,34:]"
   ]
  },
  {
   "cell_type": "code",
   "execution_count": 2,
   "metadata": {
    "collapsed": false
   },
   "outputs": [],
   "source": [
    "from sklearn.preprocessing import StandardScaler\n",
    "\n",
    "sc = StandardScaler()\n",
    "sc.fit(X)\n",
    "X = sc.transform(X)"
   ]
  },
  {
   "cell_type": "code",
   "execution_count": 3,
   "metadata": {
    "collapsed": false
   },
   "outputs": [],
   "source": [
    "from sklearn.cross_validation import train_test_split\n",
    "\n",
    "X_train, X_test, y_train, y_test = train_test_split(\n",
    "    X, y, test_size=0.3)"
   ]
  },
  {
   "cell_type": "code",
   "execution_count": 4,
   "metadata": {
    "collapsed": false
   },
   "outputs": [],
   "source": [
    "clf= LinearRegression(n_jobs=-1)"
   ]
  },
  {
   "cell_type": "code",
   "execution_count": 5,
   "metadata": {
    "collapsed": false
   },
   "outputs": [
    {
     "data": {
      "text/plain": [
       "LinearRegression(copy_X=True, fit_intercept=True, n_jobs=-1, normalize=False)"
      ]
     },
     "execution_count": 5,
     "metadata": {},
     "output_type": "execute_result"
    }
   ],
   "source": [
    "clf.fit(X_train, y_train)"
   ]
  },
  {
   "cell_type": "code",
   "execution_count": 6,
   "metadata": {
    "collapsed": false
   },
   "outputs": [
    {
     "data": {
      "text/plain": [
       "0.96519698230801787"
      ]
     },
     "execution_count": 6,
     "metadata": {},
     "output_type": "execute_result"
    }
   ],
   "source": [
    "clf.score(X_test, y_test)"
   ]
  }
 ],
 "metadata": {
  "anaconda-cloud": {},
  "kernelspec": {
   "display_name": "Python [conda root]",
   "language": "python",
   "name": "conda-root-py"
  },
  "language_info": {
   "codemirror_mode": {
    "name": "ipython",
    "version": 3
   },
   "file_extension": ".py",
   "mimetype": "text/x-python",
   "name": "python",
   "nbconvert_exporter": "python",
   "pygments_lexer": "ipython3",
   "version": "3.5.2"
  }
 },
 "nbformat": 4,
 "nbformat_minor": 1
}
